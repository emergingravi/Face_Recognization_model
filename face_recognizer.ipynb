{
 "cells": [
  {
   "cell_type": "code",
   "execution_count": 4,
   "metadata": {},
   "outputs": [
    {
     "name": "stdout",
     "output_type": "stream",
     "text": [
      "Requirement already satisfied: numpy in c:\\users\\a s p i r e 7\\appdata\\local\\programs\\python\\python311\\lib\\site-packages (2.0.1)\n",
      "Note: you may need to restart the kernel to use updated packages.\n"
     ]
    }
   ],
   "source": [
    "pip install numpy\n"
   ]
  },
  {
   "cell_type": "code",
   "execution_count": 5,
   "metadata": {},
   "outputs": [],
   "source": [
    "\n",
    "import cv2\n",
    "# do not delete the data folder\n",
    "# the data folder will store the images for training the model "
   ]
  },
  {
   "cell_type": "markdown",
   "metadata": {},
   "source": [
    "converting images to grayscale"
   ]
  },
  {
   "cell_type": "markdown",
   "metadata": {},
   "source": [
    "generating datasets\n"
   ]
  },
  {
   "cell_type": "code",
   "execution_count": 6,
   "metadata": {},
   "outputs": [
    {
     "ename": "KeyboardInterrupt",
     "evalue": "",
     "output_type": "error",
     "traceback": [
      "\u001b[1;31m---------------------------------------------------------------------------\u001b[0m",
      "\u001b[1;31mKeyboardInterrupt\u001b[0m                         Traceback (most recent call last)",
      "Cell \u001b[1;32mIn[6], line 42\u001b[0m\n\u001b[0;32m     39\u001b[0m     \u001b[38;5;28mprint\u001b[39m(\u001b[38;5;124m\"\u001b[39m\u001b[38;5;124mCollecting samples is completed.......\u001b[39m\u001b[38;5;124m\"\u001b[39m)\n\u001b[0;32m     41\u001b[0m \u001b[38;5;66;03m# Call the function to start dataset generation\u001b[39;00m\n\u001b[1;32m---> 42\u001b[0m \u001b[43mgenerate_dataset\u001b[49m\u001b[43m(\u001b[49m\u001b[43m)\u001b[49m\n",
      "Cell \u001b[1;32mIn[6], line 22\u001b[0m, in \u001b[0;36mgenerate_dataset\u001b[1;34m()\u001b[0m\n\u001b[0;32m     20\u001b[0m \u001b[38;5;28;01mwhile\u001b[39;00m \u001b[38;5;28;01mTrue\u001b[39;00m:\n\u001b[0;32m     21\u001b[0m     ret, frame \u001b[38;5;241m=\u001b[39m cap\u001b[38;5;241m.\u001b[39mread()\n\u001b[1;32m---> 22\u001b[0m     \u001b[38;5;28;01mif\u001b[39;00m \u001b[43mface_cropped\u001b[49m\u001b[43m(\u001b[49m\u001b[43mframe\u001b[49m\u001b[43m)\u001b[49m \u001b[38;5;129;01mis\u001b[39;00m \u001b[38;5;129;01mnot\u001b[39;00m \u001b[38;5;28;01mNone\u001b[39;00m:\n\u001b[0;32m     23\u001b[0m         img_id \u001b[38;5;241m+\u001b[39m\u001b[38;5;241m=\u001b[39m \u001b[38;5;241m1\u001b[39m\n\u001b[0;32m     24\u001b[0m         face \u001b[38;5;241m=\u001b[39m cv2\u001b[38;5;241m.\u001b[39mresize(face_cropped(frame), (\u001b[38;5;241m400\u001b[39m,\u001b[38;5;241m400\u001b[39m))\n",
      "Cell \u001b[1;32mIn[6], line 6\u001b[0m, in \u001b[0;36mgenerate_dataset.<locals>.face_cropped\u001b[1;34m(img)\u001b[0m\n\u001b[0;32m      4\u001b[0m \u001b[38;5;28;01mdef\u001b[39;00m \u001b[38;5;21mface_cropped\u001b[39m(img):\n\u001b[0;32m      5\u001b[0m     gray \u001b[38;5;241m=\u001b[39m cv2\u001b[38;5;241m.\u001b[39mcvtColor(img, cv2\u001b[38;5;241m.\u001b[39mCOLOR_BGR2GRAY)\n\u001b[1;32m----> 6\u001b[0m     faces \u001b[38;5;241m=\u001b[39m \u001b[43mface_classifier\u001b[49m\u001b[38;5;241;43m.\u001b[39;49m\u001b[43mdetectMultiScale\u001b[49m\u001b[43m(\u001b[49m\u001b[43mgray\u001b[49m\u001b[43m,\u001b[49m\u001b[43m \u001b[49m\u001b[38;5;241;43m1.3\u001b[39;49m\u001b[43m,\u001b[49m\u001b[43m \u001b[49m\u001b[38;5;241;43m5\u001b[39;49m\u001b[43m)\u001b[49m\n\u001b[0;32m      7\u001b[0m     \u001b[38;5;66;03m# Scaling factor = 1.3\u001b[39;00m\n\u001b[0;32m      8\u001b[0m     \u001b[38;5;66;03m# Minimum neighbor = 5\u001b[39;00m\n\u001b[0;32m      9\u001b[0m     \u001b[38;5;28;01mif\u001b[39;00m \u001b[38;5;28mlen\u001b[39m(faces) \u001b[38;5;241m==\u001b[39m \u001b[38;5;241m0\u001b[39m:\n",
      "\u001b[1;31mKeyboardInterrupt\u001b[0m: "
     ]
    }
   ],
   "source": [
    "\n",
    "def generate_dataset():\n",
    "    face_classifier =cv2.CascadeClassifier(\"haarcascade_frontalface_default.xml\")\n",
    "\n",
    "    def face_cropped(img):\n",
    "        gray = cv2.cvtColor(img, cv2.COLOR_BGR2GRAY)\n",
    "        faces = face_classifier.detectMultiScale(gray, 1.3, 5)\n",
    "        # Scaling factor = 1.3\n",
    "        # Minimum neighbor = 5\n",
    "        if len(faces) == 0:\n",
    "            return None\n",
    "        for (x, y, w, h) in faces:\n",
    "            face_cropped = img[y:y+h, x:x+w]\n",
    "        return face_cropped\n",
    "\n",
    "    cap = cv2.VideoCapture(0)\n",
    "    # change the id number for next user , by default for 1st user it is set to 1\n",
    "    id = 1\n",
    "    img_id = 0\n",
    "\n",
    "    while True:\n",
    "        ret, frame = cap.read()\n",
    "        if face_cropped(frame) is not None:\n",
    "            img_id += 1\n",
    "            face = cv2.resize(face_cropped(frame), (400,400))\n",
    "            face = cv2.cvtColor(face, cv2.COLOR_BGR2GRAY)\n",
    "            file_name_path = \"data/user.\" + str(id) + \".\" + str(img_id) + \".jpg\"\n",
    "            cv2.imwrite(file_name_path, face)\n",
    "            cv2.putText(face, str(img_id), (50, 50), cv2.FONT_HERSHEY_COMPLEX, 1, (0, 255, 0), 2)\n",
    "            # (50,50) is the origin point from where text is to be written\n",
    "            # Font scale = 1\n",
    "            # Thickness = 2\n",
    "            cv2.imshow(\"Cropped Face\", face)\n",
    "            # 13 is the ASCII key value for ENTER\n",
    "            if cv2.waitKey(1) == 13 or int(img_id) == 400:\n",
    "                break\n",
    "\n",
    "    cap.release()\n",
    "    cv2.destroyAllWindows()\n",
    "    print(\"Collecting samples is completed.......\")\n",
    "\n",
    "# Call the function to start dataset generation\n",
    "generate_dataset()\n"
   ]
  },
  {
   "cell_type": "markdown",
   "metadata": {},
   "source": [
    "training the classifier and saving"
   ]
  },
  {
   "cell_type": "code",
   "execution_count": null,
   "metadata": {},
   "outputs": [],
   "source": [
    "import numpy as np\n",
    "from PIL import Image\n",
    "import os\n",
    "import cv2"
   ]
  },
  {
   "cell_type": "code",
   "execution_count": null,
   "metadata": {},
   "outputs": [],
   "source": [
    "def train_classifier(data_dir):\n",
    "    #joining images(f) to the data (eg.user1.2)\n",
    "    path =[os.path.join(data_dir,f) for f in os.listdir(data_dir)]\n",
    "    faces=[]\n",
    "    ids =[]\n",
    "    \n",
    "    for image in path:\n",
    "        img = Image.open(image).convert('L');\n",
    "        imageNp =np.array(img,'uint8')\n",
    "        id =int(os.path.split(image)[1].split(\".\")[1])\n",
    "        # D:\\4th semester\\Face_recognizer_project\\data\\user.1.2\n",
    "\n",
    "        faces.append(imageNp)\n",
    "        ids.append(id)\n",
    "    ids=np.array(ids)\n",
    "\n",
    "    #trainig and saving classifier\n",
    "    clf= cv2.face.LBPHFaceRecognizer_create()\n",
    "    clf.train(faces,ids)\n",
    "    clf.write(\"classifier.xml\")\n",
    "train_classifier(\"data\")"
   ]
  },
  {
   "cell_type": "markdown",
   "metadata": {},
   "source": [
    "Detecting the faces and naming if it is already installed\n"
   ]
  },
  {
   "cell_type": "code",
   "execution_count": null,
   "metadata": {},
   "outputs": [],
   "source": [
    "def draw_boundary(img,classifier,scaleFactor,minNeighbours,color,text,clf):\n",
    "    gray_image =cv2.cvtColor(img,cv2.COLOR_BGR2GRAY)\n",
    "    features = classifier.detectMultiScale(gray_image,scaleFactor,minNeighbours)\n",
    "\n",
    "    coords =[]\n",
    "\n",
    "    for(x,y,w,h) in features:\n",
    "        cv2.rectangle(img,(x,y),(x+w,y+h),color,4)\n",
    "        id,pred = clf.predict(gray_image[y:y+h,x:x+w])\n",
    "        confidence =int(100*(1-pred/300))\n",
    "\n",
    "        if confidence>60:\n",
    "            if id==1:\n",
    "                cv2.putText(img,\"Ravi\",(x,y-5),cv2.FONT_HERSHEY_SIMPLEX,0.8,color,1,cv2.LINE_AA)\n",
    "                # for other id continue it with elif \n",
    "        else:\n",
    "            cv2.putText(img,\"UNKNOWN..🤔\",(x,y-5),cv2.FONT_HERSHEY_SIMPLEX,0.8,(0,0,266),1,cv2.LINE_AA) \n",
    "        \n",
    "        coords =[x,y,w,h]\n",
    "    return coords \n",
    "\n",
    "def recognize(img,clf,faceCascade):\n",
    "    coords = draw_boundary(img,faceCascade,1.1,10,(255,255,255),\"Face\",clf)\n",
    "    return img\n",
    "\n",
    "faceCascade=cv2.CascadeClassifier(\"haarcascade_frontalface_default.xml\")\n",
    "clf= cv2.face.LBPHFaceRecognizer_create()\n",
    "clf.read(\"classifier.xml\")\n",
    "\n",
    "video_capture =cv2.VideoCapture(0)\n",
    "while True:\n",
    "    ret,img = video_capture.read()\n",
    "    img =recognize(img,clf,faceCascade)\n",
    "    cv2.imshow(\"face detected ...👍\",img)\n",
    "\n",
    "    if cv2.waitKey(1)==13:\n",
    "        break\n",
    "video_capture.release()\n",
    "cv2.destroyAllWindows()"
   ]
  },
  {
   "cell_type": "code",
   "execution_count": null,
   "metadata": {},
   "outputs": [],
   "source": []
  }
 ],
 "metadata": {
  "kernelspec": {
   "display_name": "Python 3",
   "language": "python",
   "name": "python3"
  },
  "language_info": {
   "codemirror_mode": {
    "name": "ipython",
    "version": 3
   },
   "file_extension": ".py",
   "mimetype": "text/x-python",
   "name": "python",
   "nbconvert_exporter": "python",
   "pygments_lexer": "ipython3",
   "version": "3.11.2"
  }
 },
 "nbformat": 4,
 "nbformat_minor": 2
}
